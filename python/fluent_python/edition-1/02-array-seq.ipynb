{
 "cells": [
  {
   "cell_type": "markdown",
   "metadata": {
    "collapsed": true,
    "pycharm": {
     "name": "#%% md\n"
    }
   },
   "source": [
    "# 第二章 序列构成的数组\n",
    "## 内置数据类型\n",
    "### 容器类：可以存储不同类型的数据，也可以包含内置容器，例如：list tuple collection.deque\n",
    "#### 容器类的保存的是引用\n",
    "### 扁平类：存储同一种类型的数据，例如：str，bytes，array.array\n",
    "#### 扁平类的存储的是数据内容"
   ]
  },
  {
   "cell_type": "markdown",
   "source": [
    "### 1.列表推到和生成器表达式;"
   ],
   "metadata": {
    "collapsed": false
   }
  },
  {
   "cell_type": "code",
   "execution_count": 2,
   "outputs": [
    {
     "name": "stdout",
     "output_type": "stream",
     "text": [
      "[97, 98, 99, 100, 101]\n",
      "{'a': '5', 'b': '5', 'c': '5', 'd': '5', 'e': '5'}\n"
     ]
    }
   ],
   "source": [
    "word = \"abcde\"\n",
    "codes = [ord(w) for w in word]\n",
    "print(codes)\n",
    "\n",
    "word2 = \"abcde\"\n",
    "word3 = \"12345\"\n",
    "codes_dict = { w1 : w2 for w1 in word2 for w2 in word3}\n",
    "print(codes_dict)"
   ],
   "metadata": {
    "collapsed": false,
    "pycharm": {
     "name": "#%%\n"
    }
   }
  }
 ],
 "metadata": {
  "kernelspec": {
   "display_name": "Python 3",
   "language": "python",
   "name": "python3"
  },
  "language_info": {
   "codemirror_mode": {
    "name": "ipython",
    "version": 2
   },
   "file_extension": ".py",
   "mimetype": "text/x-python",
   "name": "python",
   "nbconvert_exporter": "python",
   "pygments_lexer": "ipython2",
   "version": "2.7.6"
  }
 },
 "nbformat": 4,
 "nbformat_minor": 0
}
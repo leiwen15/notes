{
 "cells": [
  {
   "cell_type": "markdown",
   "metadata": {
    "collapsed": true,
    "pycharm": {
     "name": "#%% md\n"
    }
   },
   "source": [
    "# 第三章 字典和set"
   ]
  },
  {
   "cell_type": "code",
   "execution_count": 1,
   "metadata": {
    "collapsed": false,
    "pycharm": {
     "name": "#%%\n"
    }
   },
   "outputs": [
    {
     "data": {
      "text/plain": [
       "True"
      ]
     },
     "execution_count": 1,
     "metadata": {},
     "output_type": "execute_result"
    }
   ],
   "source": [
    "from collections import abc\n",
    "my_dict = {}\n",
    "isinstance(my_dict, abc.Mapping)"
   ]
  },
  {
   "cell_type": "markdown",
   "metadata": {
    "collapsed": false
   },
   "source": [
    "### 1. 只有可散列的数据类型才能作为key\n",
    "#### 1.1 如果一个对象是可散列的，那么在这个对象的生命周期中，它的散列值是不变的\n",
    "#### 1.2 这个对象需要实现 \\_\\_hash__() 方法\n",
    "#### 1.3 可散列对象还要有 \\_\\_eq__()方法，这样才能跟其他键做比较\n",
    "#### 1.4 如果两个可散列对象是相等的，那么它们的散列值一定是一样的"
   ]
  },
  {
   "cell_type": "markdown",
   "metadata": {
    "collapsed": false
   },
   "source": [
    "### 2. 字典推导"
   ]
  },
  {
   "cell_type": "code",
   "execution_count": 2,
   "metadata": {
    "collapsed": false,
    "pycharm": {
     "name": "#%%\n"
    }
   },
   "outputs": [
    {
     "name": "stdout",
     "output_type": "stream",
     "text": [
      "{1: '1', 2: '2', 3: '3'}\n"
     ]
    }
   ],
   "source": [
    "m = [(1, \"1\"), (2, \"2\"), (3, \"3\")]\n",
    "m_dict = { i: s for i, s in m}\n",
    "print(m_dict)"
   ]
  },
  {
   "cell_type": "markdown",
   "metadata": {
    "collapsed": false
   },
   "source": [
    "### 3. python直接赋值、浅拷贝、深拷贝\n",
    "#### 3.1 直接赋值：指向同一个对象\n",
    "#### 3.2 浅拷贝：拷贝父对象，不拷贝内部的子对象\n",
    "#### 3.3 深拷贝：copy.deepcopy，完全拷贝父对象及其子对象"
   ]
  },
  {
   "cell_type": "code",
   "execution_count": 3,
   "metadata": {
    "collapsed": false,
    "pycharm": {
     "name": "#%%\n"
    }
   },
   "outputs": [
    {
     "name": "stdout",
     "output_type": "stream",
     "text": [
      "{1: [1, 2, 3]} {1: [1, 2, 3]} {1: [1, 2, 3]}\n",
      "{1: [1, 2, 3, 4]} {1: [1, 2, 3, 4]} {1: [1, 2, 3]}\n"
     ]
    }
   ],
   "source": [
    "import copy\n",
    "a = {1: [1,2,3]}\n",
    "b = a.copy()\n",
    "c = copy.deepcopy(a)\n",
    "print(a, b, c)\n",
    "a[1].append(4)\n",
    "print(a, b, c)"
   ]
  },
  {
   "cell_type": "markdown",
   "metadata": {
    "collapsed": false
   },
   "source": [
    "### 4.集合 set\n",
    "#### 4.1 集合内的元素是唯一的，可以用来去重\n",
    "#### 4.2 set中的元素必须是可散列的，set本身不可散列，frozenset是可散列的\n",
    "#### 4.3 中缀运算符：| 返回合集，& 返回交集， - 返回差集\n",
    "#### 4.4 集合推导"
   ]
  },
  {
   "cell_type": "code",
   "execution_count": 4,
   "metadata": {
    "collapsed": false,
    "pycharm": {
     "name": "#%%\n"
    }
   },
   "outputs": [
    {
     "name": "stdout",
     "output_type": "stream",
     "text": [
      "{0, 1, 2, 3, 4, 5, 6, 7, 8, 9}\n"
     ]
    }
   ],
   "source": [
    "m = {i for i in range(10)}\n",
    "print(m)"
   ]
  },
  {
   "cell_type": "markdown",
   "metadata": {
    "collapsed": false
   },
   "source": [
    "### 5.字典中的散列表\n",
    "#### 5.1 散列表是稀疏数组，Python中会设法保证三分之一的表元是空的，当快达到阈值时，原有的散列表会被复制到一个更大的空间\n",
    "#### 5.2散列表算法\n",
    "##### 为了获取 my_dict[search_key] 背后的值，Python 首先会调用 hash(search_key)来计算search_key 的散列值，把这个值最低的几位数字当作偏移量，在散列表里查找表元（具体取几位，得看当前散列表的大小）。若找到的表元是空的，则抛出 KeyError 异常。若不是空的，则表元里会有一对 found_key:found_value。这时候 Python 会检验 search_key ==found_key 是否为真，如果它们相等的话，就会返回 found_value\n",
    "#### 当插入新值之后，Python可能会根据散列表的拥挤程度来决定是否从子女分配内存来扩容"
   ]
  },
  {
   "cell_type": "markdown",
   "metadata": {
    "collapsed": false
   },
   "source": [
    "### 6.dict的实现\n",
    "#### 6.1 利用散列表来实现dict\n",
    "#### 6.2 键必须是可散列的\n",
    "##### （1）支持 hash() 函数，并且通过 \\_\\_hash__() 方法所得到的散列值是不变的\n",
    "##### （2）支持通过 \\_\\_eq__() 方法来检测相等性\n",
    "##### （3）若 a == b 为真，则 hash(a) == hash(b) 也为真\n",
    "#### 6.2字典在内存上的开销巨大\n",
    "#### 6.3键查询速度很快\n",
    "#### 6.4键的次序取决于添加顺序\n",
    "#### 6.5往字典里添加新键可能会改变原有的键的顺序\n",
    "##### 因为当添加新键时，Python解释器可能会为字典扩容，建立一个更大的散列表，这个过程中可能会出现新的散列冲突，导致新散列表中的键的次序变化"
   ]
  },
  {
   "cell_type": "markdown",
   "metadata": {
    "collapsed": false
   },
   "source": [
    "### 7.set的实现\n",
    "#### 7.1 set的实现也依赖散列表"
   ]
  }
 ],
 "metadata": {
  "kernelspec": {
   "display_name": "Python 3",
   "language": "python",
   "name": "python3"
  },
  "language_info": {
   "codemirror_mode": {
    "name": "ipython",
    "version": 3
   },
   "file_extension": ".py",
   "mimetype": "text/x-python",
   "name": "python",
   "nbconvert_exporter": "python",
   "pygments_lexer": "ipython3",
   "version": "3.9.5"
  }
 },
 "nbformat": 4,
 "nbformat_minor": 0
}

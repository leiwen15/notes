{
 "cells": [
  {
   "cell_type": "markdown",
   "metadata": {
    "collapsed": true,
    "pycharm": {
     "name": "#%% md\n"
    }
   },
   "source": [
    "# 第五章 Data Class Builders"
   ]
  },
  {
   "cell_type": "markdown",
   "source": [
    "### 1.dataclass就是一个含有数据及操作数据方法的容器\n",
    "### 2.构建dataclass的三种方式\n",
    "#### 2.1 collections.namedtuple\n",
    "#### 2.2 typing.NamedTuple\n",
    "#### 2.3 @dataclasses.dataclass装饰器"
   ],
   "metadata": {
    "collapsed": false
   }
  },
  {
   "cell_type": "code",
   "execution_count": 2,
   "outputs": [
    {
     "name": "stdout",
     "output_type": "stream",
     "text": [
      "<__main__.Coordinate object at 0x0000022260D2D220>\n",
      "False\n"
     ]
    }
   ],
   "source": [
    "class Coordinate:\n",
    "\n",
    "    def __init__(self, lat, lon):\n",
    "        self.lat = lat\n",
    "        self.lon = lon\n",
    "moscow = Coordinate(55.756, 37.617)\n",
    "print(moscow)\n",
    "location = Coordinate(55.76, 37.62)\n",
    "print(location == moscow)"
   ],
   "metadata": {
    "collapsed": false,
    "pycharm": {
     "name": "#%%\n"
    }
   }
  },
  {
   "cell_type": "markdown",
   "source": [
    "##### 以上是利用class来定义的\n",
    "##### 缺点1：\\_\\_repr__显示得并不友好\n",
    "##### 缺点2：==没有意义，调用的是 \\_\\_eq__"
   ],
   "metadata": {
    "collapsed": false
   }
  },
  {
   "cell_type": "markdown",
   "source": [
    "#### 2.1 利用collections.namedtuple来构建data class"
   ],
   "metadata": {
    "collapsed": false
   }
  },
  {
   "cell_type": "code",
   "execution_count": 5,
   "outputs": [
    {
     "name": "stdout",
     "output_type": "stream",
     "text": [
      "True\n",
      "Coordinate(lat=55.756, lon=37.617)\n",
      "True\n"
     ]
    }
   ],
   "source": [
    "from collections import namedtuple\n",
    "Coordinate = namedtuple('Coordinate', 'lat lon')\n",
    "print(issubclass(Coordinate, tuple))\n",
    "moscow = Coordinate(55.756, 37.617)\n",
    "print(moscow)\n",
    "print(moscow == Coordinate(lat=55.756, lon=37.617))"
   ],
   "metadata": {
    "collapsed": false,
    "pycharm": {
     "name": "#%%\n"
    }
   }
  },
  {
   "cell_type": "markdown",
   "source": [
    "##### 以上是利用namedtuple来定义的\n",
    "##### \\_\\_repr__ 显示得比较友好\n",
    "##### == 有意义"
   ],
   "metadata": {
    "collapsed": false
   }
  },
  {
   "cell_type": "markdown",
   "source": [
    "#### 2.2 typing.NamedTuple"
   ],
   "metadata": {
    "collapsed": false
   }
  },
  {
   "cell_type": "code",
   "execution_count": 6,
   "outputs": [
    {
     "name": "stdout",
     "output_type": "stream",
     "text": [
      "55.8°N, 37.6°E\n"
     ]
    }
   ],
   "source": [
    "from typing import NamedTuple\n",
    "\n",
    "class Coordinate(NamedTuple):\n",
    "    lat: float\n",
    "    lon: float\n",
    "\n",
    "    def __str__(self):\n",
    "        ns = 'N' if self.lat >= 0 else 'S'\n",
    "        we = 'E' if self.lon >= 0 else 'W'\n",
    "        return f'{abs(self.lat):.1f}°{ns}, {abs(self.lon):.1f}°{we}'\n",
    "\n",
    "moscow = Coordinate(55.756, 37.617)\n",
    "print(moscow)"
   ],
   "metadata": {
    "collapsed": false,
    "pycharm": {
     "name": "#%%\n"
    }
   }
  },
  {
   "cell_type": "markdown",
   "source": [
    "#### 2.3 @dataclasses.dataclass装饰器"
   ],
   "metadata": {
    "collapsed": false
   }
  },
  {
   "cell_type": "code",
   "execution_count": 7,
   "outputs": [
    {
     "name": "stdout",
     "output_type": "stream",
     "text": [
      "55.8°N, 37.6°E\n"
     ]
    }
   ],
   "source": [
    "from dataclasses import dataclass\n",
    "\n",
    "@dataclass(frozen=True)\n",
    "class Coordinate:\n",
    "    lat: float\n",
    "    lon: float\n",
    "\n",
    "    def __str__(self):\n",
    "        ns = 'N' if self.lat >= 0 else 'S'\n",
    "        we = 'E' if self.lon >= 0 else 'W'\n",
    "        return f'{abs(self.lat):.1f}°{ns}, {abs(self.lon):.1f}°{we}'\n",
    "\n",
    "moscow = Coordinate(55.756, 37.617)\n",
    "print(moscow)"
   ],
   "metadata": {
    "collapsed": false,
    "pycharm": {
     "name": "#%%\n"
    }
   }
  }
 ],
 "metadata": {
  "kernelspec": {
   "display_name": "Python 3",
   "language": "python",
   "name": "python3"
  },
  "language_info": {
   "codemirror_mode": {
    "name": "ipython",
    "version": 2
   },
   "file_extension": ".py",
   "mimetype": "text/x-python",
   "name": "python",
   "nbconvert_exporter": "python",
   "pygments_lexer": "ipython2",
   "version": "2.7.6"
  }
 },
 "nbformat": 4,
 "nbformat_minor": 0
}